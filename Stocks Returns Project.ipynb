{
 "cells": [
  {
   "cell_type": "code",
   "execution_count": 1,
   "metadata": {
    "id": "KheDr_zDL9es"
   },
   "outputs": [],
   "source": [
    "import numpy as np\n",
    "\n",
    "from numpy import linalg\n",
    "\n",
    "from matplotlib import pyplot as plt\n",
    "\n",
    "import pandas as pd"
   ]
  },
  {
   "cell_type": "code",
   "execution_count": 3,
   "metadata": {
    "id": "Ml7wr6GSo3Le"
   },
   "outputs": [],
   "source": [
    "# Importing stock return data\n",
    "returns = pd.read_csv(\"data_stock_returns.csv\")\n",
    "\n",
    "\n"
   ]
  },
  {
   "cell_type": "code",
   "execution_count": 4,
   "metadata": {
    "id": "nILjqx_Do3Lk"
   },
   "outputs": [
    {
     "data": {
      "text/html": [
       "<div>\n",
       "<style scoped>\n",
       "    .dataframe tbody tr th:only-of-type {\n",
       "        vertical-align: middle;\n",
       "    }\n",
       "\n",
       "    .dataframe tbody tr th {\n",
       "        vertical-align: top;\n",
       "    }\n",
       "\n",
       "    .dataframe thead th {\n",
       "        text-align: right;\n",
       "    }\n",
       "</style>\n",
       "<table border=\"1\" class=\"dataframe\">\n",
       "  <thead>\n",
       "    <tr style=\"text-align: right;\">\n",
       "      <th></th>\n",
       "      <th>Date</th>\n",
       "      <th>ATVI</th>\n",
       "      <th>CHTR</th>\n",
       "      <th>CMCSA</th>\n",
       "      <th>CTL</th>\n",
       "      <th>DIS</th>\n",
       "      <th>DISCA</th>\n",
       "      <th>DISCK</th>\n",
       "      <th>DISH</th>\n",
       "      <th>EA</th>\n",
       "      <th>...</th>\n",
       "      <th>NEE</th>\n",
       "      <th>NI</th>\n",
       "      <th>NRG</th>\n",
       "      <th>PEG</th>\n",
       "      <th>PNW</th>\n",
       "      <th>PPL</th>\n",
       "      <th>SO</th>\n",
       "      <th>SRE</th>\n",
       "      <th>WEC</th>\n",
       "      <th>XEL</th>\n",
       "    </tr>\n",
       "  </thead>\n",
       "  <tbody>\n",
       "    <tr>\n",
       "      <th>0</th>\n",
       "      <td>2019-01-02</td>\n",
       "      <td>0.009829</td>\n",
       "      <td>0.010542</td>\n",
       "      <td>0.009354</td>\n",
       "      <td>0.018961</td>\n",
       "      <td>-0.006221</td>\n",
       "      <td>0.043115</td>\n",
       "      <td>0.031979</td>\n",
       "      <td>0.035795</td>\n",
       "      <td>0.018333</td>\n",
       "      <td>...</td>\n",
       "      <td>-0.023222</td>\n",
       "      <td>-0.011107</td>\n",
       "      <td>-0.038352</td>\n",
       "      <td>-0.023718</td>\n",
       "      <td>-0.027728</td>\n",
       "      <td>-0.007796</td>\n",
       "      <td>-0.004564</td>\n",
       "      <td>-0.013306</td>\n",
       "      <td>-0.024556</td>\n",
       "      <td>-0.021542</td>\n",
       "    </tr>\n",
       "    <tr>\n",
       "      <th>1</th>\n",
       "      <td>2019-01-03</td>\n",
       "      <td>-0.036155</td>\n",
       "      <td>-0.001703</td>\n",
       "      <td>0.007825</td>\n",
       "      <td>0.004524</td>\n",
       "      <td>-0.024525</td>\n",
       "      <td>-0.005824</td>\n",
       "      <td>0.002515</td>\n",
       "      <td>0.020651</td>\n",
       "      <td>-0.020871</td>\n",
       "      <td>...</td>\n",
       "      <td>-0.002476</td>\n",
       "      <td>0.001196</td>\n",
       "      <td>-0.009491</td>\n",
       "      <td>-0.000197</td>\n",
       "      <td>0.010085</td>\n",
       "      <td>-0.003564</td>\n",
       "      <td>0.014082</td>\n",
       "      <td>0.004579</td>\n",
       "      <td>0.002660</td>\n",
       "      <td>-0.003948</td>\n",
       "    </tr>\n",
       "    <tr>\n",
       "      <th>2</th>\n",
       "      <td>2019-01-04</td>\n",
       "      <td>0.039127</td>\n",
       "      <td>0.051651</td>\n",
       "      <td>0.033218</td>\n",
       "      <td>0.027974</td>\n",
       "      <td>0.030381</td>\n",
       "      <td>0.017754</td>\n",
       "      <td>0.019072</td>\n",
       "      <td>0.068034</td>\n",
       "      <td>0.070034</td>\n",
       "      <td>...</td>\n",
       "      <td>0.018249</td>\n",
       "      <td>0.017378</td>\n",
       "      <td>0.033601</td>\n",
       "      <td>0.010764</td>\n",
       "      <td>0.012229</td>\n",
       "      <td>0.030242</td>\n",
       "      <td>0.008310</td>\n",
       "      <td>0.029491</td>\n",
       "      <td>0.007352</td>\n",
       "      <td>0.009738</td>\n",
       "    </tr>\n",
       "    <tr>\n",
       "      <th>3</th>\n",
       "      <td>2019-01-07</td>\n",
       "      <td>0.027806</td>\n",
       "      <td>-0.004204</td>\n",
       "      <td>-0.010668</td>\n",
       "      <td>0.021706</td>\n",
       "      <td>0.008630</td>\n",
       "      <td>0.014810</td>\n",
       "      <td>0.014271</td>\n",
       "      <td>0.011252</td>\n",
       "      <td>0.036862</td>\n",
       "      <td>...</td>\n",
       "      <td>-0.001450</td>\n",
       "      <td>0.005467</td>\n",
       "      <td>0.009179</td>\n",
       "      <td>0.002139</td>\n",
       "      <td>-0.001890</td>\n",
       "      <td>0.001384</td>\n",
       "      <td>-0.002239</td>\n",
       "      <td>-0.000181</td>\n",
       "      <td>-0.004552</td>\n",
       "      <td>-0.004339</td>\n",
       "    </tr>\n",
       "    <tr>\n",
       "      <th>4</th>\n",
       "      <td>2019-01-08</td>\n",
       "      <td>0.029859</td>\n",
       "      <td>-0.002524</td>\n",
       "      <td>0.008152</td>\n",
       "      <td>0.025441</td>\n",
       "      <td>0.007748</td>\n",
       "      <td>0.026410</td>\n",
       "      <td>0.020041</td>\n",
       "      <td>0.002793</td>\n",
       "      <td>0.016194</td>\n",
       "      <td>...</td>\n",
       "      <td>0.007287</td>\n",
       "      <td>0.018519</td>\n",
       "      <td>0.015114</td>\n",
       "      <td>0.003878</td>\n",
       "      <td>0.014904</td>\n",
       "      <td>0.013059</td>\n",
       "      <td>0.028071</td>\n",
       "      <td>0.027595</td>\n",
       "      <td>0.010249</td>\n",
       "      <td>0.011530</td>\n",
       "    </tr>\n",
       "  </tbody>\n",
       "</table>\n",
       "<p>5 rows × 489 columns</p>\n",
       "</div>"
      ],
      "text/plain": [
       "         Date      ATVI      CHTR     CMCSA       CTL       DIS     DISCA  \\\n",
       "0  2019-01-02  0.009829  0.010542  0.009354  0.018961 -0.006221  0.043115   \n",
       "1  2019-01-03 -0.036155 -0.001703  0.007825  0.004524 -0.024525 -0.005824   \n",
       "2  2019-01-04  0.039127  0.051651  0.033218  0.027974  0.030381  0.017754   \n",
       "3  2019-01-07  0.027806 -0.004204 -0.010668  0.021706  0.008630  0.014810   \n",
       "4  2019-01-08  0.029859 -0.002524  0.008152  0.025441  0.007748  0.026410   \n",
       "\n",
       "      DISCK      DISH        EA  ...       NEE        NI       NRG       PEG  \\\n",
       "0  0.031979  0.035795  0.018333  ... -0.023222 -0.011107 -0.038352 -0.023718   \n",
       "1  0.002515  0.020651 -0.020871  ... -0.002476  0.001196 -0.009491 -0.000197   \n",
       "2  0.019072  0.068034  0.070034  ...  0.018249  0.017378  0.033601  0.010764   \n",
       "3  0.014271  0.011252  0.036862  ... -0.001450  0.005467  0.009179  0.002139   \n",
       "4  0.020041  0.002793  0.016194  ...  0.007287  0.018519  0.015114  0.003878   \n",
       "\n",
       "        PNW       PPL        SO       SRE       WEC       XEL  \n",
       "0 -0.027728 -0.007796 -0.004564 -0.013306 -0.024556 -0.021542  \n",
       "1  0.010085 -0.003564  0.014082  0.004579  0.002660 -0.003948  \n",
       "2  0.012229  0.030242  0.008310  0.029491  0.007352  0.009738  \n",
       "3 -0.001890  0.001384 -0.002239 -0.000181 -0.004552 -0.004339  \n",
       "4  0.014904  0.013059  0.028071  0.027595  0.010249  0.011530  \n",
       "\n",
       "[5 rows x 489 columns]"
      ]
     },
     "execution_count": 4,
     "metadata": {},
     "output_type": "execute_result"
    }
   ],
   "source": [
    "# taking a look at the data initially\n",
    "returns.head()\n"
   ]
  },
  {
   "cell_type": "code",
   "execution_count": 9,
   "metadata": {
    "id": "EMdow3Zno3Lu"
   },
   "outputs": [
    {
     "name": "stdout",
     "output_type": "stream",
     "text": [
      "There are 489 stocks in this dataframe\n"
     ]
    }
   ],
   "source": [
    "num_of_stocks = len(returns.columns)\n",
    "\n",
    "print(\"There are {} stocks in this dataframe\".format(num_of_stocks))\n",
    "\n"
   ]
  },
  {
   "cell_type": "code",
   "execution_count": 14,
   "metadata": {},
   "outputs": [
    {
     "data": {
      "text/plain": [
       "0    489\n",
       "dtype: int64"
      ]
     },
     "execution_count": 14,
     "metadata": {},
     "output_type": "execute_result"
    }
   ],
   "source": [
    "# Checking for null values\n",
    "returns.isna().sum().value_counts()\n",
    "# there seems to be no null values"
   ]
  },
  {
   "cell_type": "code",
   "execution_count": 27,
   "metadata": {
    "id": "_CeL4dWTo3L0"
   },
   "outputs": [
    {
     "data": {
      "text/plain": [
       "252"
      ]
     },
     "execution_count": 27,
     "metadata": {},
     "output_type": "execute_result"
    }
   ],
   "source": [
    "# Converting the date column to a datetime data type\n",
    "returns['Date'] = pd.to_datetime(returns['Date'])\n",
    "\n",
    "\n",
    "#Checking how many days this dataset includes\n",
    "len(returns)"
   ]
  },
  {
   "cell_type": "code",
   "execution_count": 16,
   "metadata": {
    "id": "lREq9Jjco3L2"
   },
   "outputs": [
    {
     "data": {
      "text/plain": [
       "0      0.024440\n",
       "1     -0.025566\n",
       "2      0.048851\n",
       "3      0.033776\n",
       "4      0.016476\n",
       "         ...   \n",
       "247   -0.002116\n",
       "248    0.043506\n",
       "249    0.000551\n",
       "250   -0.012328\n",
       "251    0.000514\n",
       "Name: AMZN, Length: 252, dtype: float64"
      ]
     },
     "execution_count": 16,
     "metadata": {},
     "output_type": "execute_result"
    }
   ],
   "source": [
    "amzn_returns = returns[\"AMZN\"]\n",
    "\n",
    "amzn_returns"
   ]
  },
  {
   "cell_type": "code",
   "execution_count": 17,
   "metadata": {
    "id": "KFfxJ4pgo3L4"
   },
   "outputs": [
    {
     "data": {
      "text/plain": [
       "[<matplotlib.lines.Line2D at 0x7f8f53bd5760>]"
      ]
     },
     "execution_count": 17,
     "metadata": {},
     "output_type": "execute_result"
    },
    {
     "data": {
      "image/png": "[encoded data removed]",
      "text/plain": [
       "<Figure size 432x288 with 1 Axes>"
      ]
     },
     "metadata": {
      "needs_background": "light"
     },
     "output_type": "display_data"
    }
   ],
   "source": [
    "# plotting Amazon's returns over the time period  \n",
    "\n",
    "x = amzn_returns.index\n",
    "y= amzn_returns\n",
    "\n",
    "plt.plot(x,y)"
   ]
  },
  {
   "cell_type": "code",
   "execution_count": 30,
   "metadata": {
    "id": "hSElpeYvo3L5"
   },
   "outputs": [
    {
     "data": {
      "text/plain": [
       "[<matplotlib.lines.Line2D at 0x7f9e65272400>]"
      ]
     },
     "execution_count": 30,
     "metadata": {},
     "output_type": "execute_result"
    },
    {
     "data": {
      "image/png": "[encoded data removed]",
      "text/plain": [
       "<Figure size 432x288 with 1 Axes>"
      ]
     },
     "metadata": {
      "needs_background": "light"
     },
     "output_type": "display_data"
    }
   ],
   "source": [
    "# Plotting the cumulative sum on Amazon stock returns over the time period\n",
    "\n",
    "x = amzn_returns.index\n",
    "y= amzn_returns.cumsum()\n",
    "\n",
    "plt.plot(x,y)"
   ]
  },
  {
   "cell_type": "markdown",
   "metadata": {},
   "source": [
    "# Linear Regression Section"
   ]
  },
  {
   "cell_type": "code",
   "execution_count": 119,
   "metadata": {
    "id": "e4RiuVn6o3L6"
   },
   "outputs": [],
   "source": [
    "# the module below will allow me to perform linear regression\n",
    "import statsmodels.api as sm\n",
    "from sklearn.preprocessing import scale"
   ]
  },
  {
   "cell_type": "code",
   "execution_count": 28,
   "metadata": {
    "id": "UWEhWIAuo3L7"
   },
   "outputs": [],
   "source": [
    "# creates a function that performs linear regression\n",
    "def lin_reg(x, y):   \n",
    "    x = sm.add_constant(x)\n",
    "    model = sm.OLS(y, x).fit()\n",
    "    coefficients = model.params\n",
    "    residuals = model.resid\n",
    "    r_squared = model.rsquared\n",
    "    return coefficients, residuals, r_squared"
   ]
  },
  {
   "cell_type": "code",
   "execution_count": 33,
   "metadata": {},
   "outputs": [],
   "source": [
    "np.set_printoptions(precision=5,suppress = True)\n",
    "# To put numpy arrays into nonscientific notation\n",
    "\n"
   ]
  },
  {
   "cell_type": "code",
   "execution_count": 26,
   "metadata": {},
   "outputs": [
    {
     "data": {
      "text/plain": [
       "array([[ 1.00000000e+00,  3.19123993e-03],\n",
       "       [ 1.00000000e+00, -5.65839798e-02],\n",
       "       [ 1.00000000e+00,  5.95531248e-02],\n",
       "       [ 1.00000000e+00,  4.64821607e-03],\n",
       "       [ 1.00000000e+00,  6.30387198e-03],\n",
       "       [ 1.00000000e+00,  5.63955761e-03],\n",
       "       [ 1.00000000e+00,  1.13909727e-02],\n",
       "       [ 1.00000000e+00,  7.59055457e-03],\n",
       "       [ 1.00000000e+00, -1.19245327e-02],\n",
       "       [ 1.00000000e+00,  5.15728666e-03],\n",
       "       [ 1.00000000e+00, -9.71790127e-03],\n",
       "       [ 1.00000000e+00,  7.03937928e-03],\n",
       "       [ 1.00000000e+00,  1.47454130e-02],\n",
       "       [ 1.00000000e+00, -1.88801625e-02],\n",
       "       [ 1.00000000e+00, -6.86009375e-03],\n",
       "       [ 1.00000000e+00,  3.72613003e-02],\n",
       "       [ 1.00000000e+00, -5.62129920e-02],\n",
       "       [ 1.00000000e+00, -7.04018811e-03],\n",
       "       [ 1.00000000e+00, -3.64608030e-03],\n",
       "       [ 1.00000000e+00,  2.12593795e-02],\n",
       "       [ 1.00000000e+00, -8.87394713e-03],\n",
       "       [ 1.00000000e+00,  3.35970964e-02],\n",
       "       [ 1.00000000e+00,  1.00053661e-02],\n",
       "       [ 1.00000000e+00,  1.59228809e-02],\n",
       "       [ 1.00000000e+00,  4.11674779e-03],\n",
       "       [ 1.00000000e+00, -1.35179265e-02],\n",
       "       [ 1.00000000e+00, -7.95347064e-03],\n",
       "       [ 1.00000000e+00, -1.43430770e-03],\n",
       "       [ 1.00000000e+00,  2.51075838e-02],\n",
       "       [ 1.00000000e+00,  9.15622728e-03],\n",
       "       [ 1.00000000e+00,  6.71396065e-03],\n",
       "       [ 1.00000000e+00,  1.65906421e-02],\n",
       "       [ 1.00000000e+00, -5.04559383e-03],\n",
       "       [ 1.00000000e+00, -1.94520334e-04],\n",
       "       [ 1.00000000e+00,  3.89156625e-04],\n",
       "       [ 1.00000000e+00,  2.07899087e-02],\n",
       "       [ 1.00000000e+00,  1.15542867e-02],\n",
       "       [ 1.00000000e+00,  2.44524551e-03],\n",
       "       [ 1.00000000e+00,  1.87722726e-04],\n",
       "       [ 1.00000000e+00, -5.27311123e-03],\n",
       "       [ 1.00000000e+00,  6.39952399e-03],\n",
       "       [ 1.00000000e+00,  1.19358735e-02],\n",
       "       [ 1.00000000e+00, -4.83173112e-03],\n",
       "       [ 1.00000000e+00, -1.36923817e-02],\n",
       "       [ 1.00000000e+00, -6.63200737e-03],\n",
       "       [ 1.00000000e+00, -2.28397694e-03],\n",
       "       [ 1.00000000e+00,  1.64417721e-02],\n",
       "       [ 1.00000000e+00,  4.11526029e-03],\n",
       "       [ 1.00000000e+00,  1.48233093e-02],\n",
       "       [ 1.00000000e+00, -1.72530167e-02],\n",
       "       [ 1.00000000e+00,  1.65170940e-02],\n",
       "       [ 1.00000000e+00, -4.24242683e-03],\n",
       "       [ 1.00000000e+00,  1.29316222e-03],\n",
       "       [ 1.00000000e+00, -6.48208479e-03],\n",
       "       [ 1.00000000e+00,  1.51210328e-02],\n",
       "       [ 1.00000000e+00, -2.55807291e-02],\n",
       "       [ 1.00000000e+00, -9.05310739e-03],\n",
       "       [ 1.00000000e+00,  1.24270591e-02],\n",
       "       [ 1.00000000e+00, -5.25317599e-03],\n",
       "       [ 1.00000000e+00, -9.40975300e-04],\n",
       "       [ 1.00000000e+00,  1.10477504e-02],\n",
       "       [ 1.00000000e+00,  1.49710355e-02],\n",
       "       [ 1.00000000e+00, -2.75551147e-03],\n",
       "       [ 1.00000000e+00,  2.03939748e-02],\n",
       "       [ 1.00000000e+00,  7.89955615e-03],\n",
       "       [ 1.00000000e+00, -5.73894854e-03],\n",
       "       [ 1.00000000e+00,  1.43779230e-03],\n",
       "       [ 1.00000000e+00, -6.48644332e-03],\n",
       "       [ 1.00000000e+00,  7.74279143e-03],\n",
       "       [ 1.00000000e+00,  8.96507081e-04],\n",
       "       [ 1.00000000e+00,  1.10498922e-02],\n",
       "       [ 1.00000000e+00, -2.48445189e-03],\n",
       "       [ 1.00000000e+00,  7.61135887e-03],\n",
       "       [ 1.00000000e+00,  3.21012411e-02],\n",
       "       [ 1.00000000e+00, -1.19602611e-03],\n",
       "       [ 1.00000000e+00,  5.62607076e-03],\n",
       "       [ 1.00000000e+00, -6.80295117e-04],\n",
       "       [ 1.00000000e+00, -1.02121023e-03],\n",
       "       [ 1.00000000e+00, -1.90842357e-02],\n",
       "       [ 1.00000000e+00, -9.42171957e-02],\n",
       "       [ 1.00000000e+00, -2.54987939e-02],\n",
       "       [ 1.00000000e+00, -1.37048321e-03],\n",
       "       [ 1.00000000e+00, -5.50102628e-03],\n",
       "       [ 1.00000000e+00, -4.14577882e-03],\n",
       "       [ 1.00000000e+00,  2.34615066e-02],\n",
       "       [ 1.00000000e+00, -4.18872698e-03],\n",
       "       [ 1.00000000e+00, -1.45528924e-02],\n",
       "       [ 1.00000000e+00, -2.48709604e-02],\n",
       "       [ 1.00000000e+00, -5.46766612e-02],\n",
       "       [ 1.00000000e+00, -9.04978572e-03],\n",
       "       [ 1.00000000e+00, -3.16651255e-02],\n",
       "       [ 1.00000000e+00,  9.11840435e-03],\n",
       "       [ 1.00000000e+00,  9.91306259e-03],\n",
       "       [ 1.00000000e+00, -1.97490467e-03],\n",
       "       [ 1.00000000e+00, -1.41562208e-02],\n",
       "       [ 1.00000000e+00, -3.00755871e-02],\n",
       "       [ 1.00000000e+00,  2.04504202e-02],\n",
       "       [ 1.00000000e+00, -1.04002557e-02],\n",
       "       [ 1.00000000e+00,  1.19735462e-02],\n",
       "       [ 1.00000000e+00,  8.97900428e-04],\n",
       "       [ 1.00000000e+00, -2.26922636e-02],\n",
       "       [ 1.00000000e+00,  1.50344210e-02],\n",
       "       [ 1.00000000e+00,  1.12412280e-02],\n",
       "       [ 1.00000000e+00, -1.55461208e-02],\n",
       "       [ 1.00000000e+00, -1.32573280e-02],\n",
       "       [ 1.00000000e+00,  3.01438490e-02],\n",
       "       [ 1.00000000e+00, -5.37276733e-03],\n",
       "       [ 1.00000000e+00,  1.22702131e-02],\n",
       "       [ 1.00000000e+00,  2.04110601e-02],\n",
       "       [ 1.00000000e+00,  1.65898386e-02],\n",
       "       [ 1.00000000e+00,  1.06782386e-03],\n",
       "       [ 1.00000000e+00, -1.13772335e-02],\n",
       "       [ 1.00000000e+00,  8.17041925e-03],\n",
       "       [ 1.00000000e+00, -1.09809249e-02],\n",
       "       [ 1.00000000e+00, -1.29974677e-03],\n",
       "       [ 1.00000000e+00,  2.65254981e-02],\n",
       "       [ 1.00000000e+00, -6.35320316e-03],\n",
       "       [ 1.00000000e+00,  2.54607694e-03],\n",
       "       [ 1.00000000e+00,  5.70530916e-03],\n",
       "       [ 1.00000000e+00,  3.57567393e-03],\n",
       "       [ 1.00000000e+00, -1.65118691e-02],\n",
       "       [ 1.00000000e+00,  2.82004386e-02],\n",
       "       [ 1.00000000e+00, -1.52642435e-02],\n",
       "       [ 1.00000000e+00,  8.60179940e-03],\n",
       "       [ 1.00000000e+00,  3.75314641e-03],\n",
       "       [ 1.00000000e+00,  1.45566600e-03],\n",
       "       [ 1.00000000e+00,  8.27833325e-03],\n",
       "       [ 1.00000000e+00, -9.10988291e-03],\n",
       "       [ 1.00000000e+00, -5.42232184e-03],\n",
       "       [ 1.00000000e+00, -1.46488705e-03],\n",
       "       [ 1.00000000e+00,  9.58738393e-03],\n",
       "       [ 1.00000000e+00,  8.05705313e-03],\n",
       "       [ 1.00000000e+00,  2.67981384e-02],\n",
       "       [ 1.00000000e+00,  3.99839554e-03],\n",
       "       [ 1.00000000e+00, -1.91364582e-02],\n",
       "       [ 1.00000000e+00,  4.46441682e-03],\n",
       "       [ 1.00000000e+00,  1.10741820e-02],\n",
       "       [ 1.00000000e+00,  6.58633609e-03],\n",
       "       [ 1.00000000e+00,  2.12564624e-02],\n",
       "       [ 1.00000000e+00,  7.75947463e-03],\n",
       "       [ 1.00000000e+00,  2.23568063e-02],\n",
       "       [ 1.00000000e+00, -1.44653534e-02],\n",
       "       [ 1.00000000e+00, -1.09880670e-02],\n",
       "       [ 1.00000000e+00,  1.76758153e-02],\n",
       "       [ 1.00000000e+00, -1.55459441e-02],\n",
       "       [ 1.00000000e+00, -2.24948347e-02],\n",
       "       [ 1.00000000e+00, -2.09902401e-02],\n",
       "       [ 1.00000000e+00, -1.67043325e-02],\n",
       "       [ 1.00000000e+00, -3.57591817e-02],\n",
       "       [ 1.00000000e+00,  6.51603951e-03],\n",
       "       [ 1.00000000e+00, -4.90974854e-03],\n",
       "       [ 1.00000000e+00,  9.37165712e-03],\n",
       "       [ 1.00000000e+00, -2.55515299e-02],\n",
       "       [ 1.00000000e+00, -8.29897752e-03],\n",
       "       [ 1.00000000e+00,  2.68299696e-02],\n",
       "       [ 1.00000000e+00, -2.09262240e-02],\n",
       "       [ 1.00000000e+00, -3.71302810e-03],\n",
       "       [ 1.00000000e+00,  1.73540757e-02],\n",
       "       [ 1.00000000e+00,  1.55768971e-02],\n",
       "       [ 1.00000000e+00, -1.34287029e-02],\n",
       "       [ 1.00000000e+00,  1.17334883e-02],\n",
       "       [ 1.00000000e+00, -7.87827975e-03],\n",
       "       [ 1.00000000e+00, -3.96825509e-02],\n",
       "       [ 1.00000000e+00,  1.32569794e-02],\n",
       "       [ 1.00000000e+00,  5.03551607e-03],\n",
       "       [ 1.00000000e+00,  0.00000000e+00],\n",
       "       [ 1.00000000e+00,  2.33121004e-02],\n",
       "       [ 1.00000000e+00,  1.14553312e-02],\n",
       "       [ 1.00000000e+00, -9.11114312e-03],\n",
       "       [ 1.00000000e+00,  4.04643194e-02],\n",
       "       [ 1.00000000e+00,  2.38346791e-02],\n",
       "       [ 1.00000000e+00,  1.62346924e-02],\n",
       "       [ 1.00000000e+00,  1.30721702e-02],\n",
       "       [ 1.00000000e+00,  4.44833177e-03],\n",
       "       [ 1.00000000e+00,  1.85455981e-02],\n",
       "       [ 1.00000000e+00,  4.15875925e-03],\n",
       "       [ 1.00000000e+00, -8.90571488e-03],\n",
       "       [ 1.00000000e+00, -6.49224477e-03],\n",
       "       [ 1.00000000e+00, -4.80081267e-03],\n",
       "       [ 1.00000000e+00, -4.05052849e-03],\n",
       "       [ 1.00000000e+00, -3.29115957e-03],\n",
       "       [ 1.00000000e+00, -1.66197998e-02],\n",
       "       [ 1.00000000e+00,  3.54275634e-03],\n",
       "       [ 1.00000000e+00, -2.14465817e-02],\n",
       "       [ 1.00000000e+00,  2.38012871e-02],\n",
       "       [ 1.00000000e+00, -1.96206085e-03],\n",
       "       [ 1.00000000e+00, -2.75313822e-03],\n",
       "       [ 1.00000000e+00,  1.46616189e-02],\n",
       "       [ 1.00000000e+00, -1.50554999e-02],\n",
       "       [ 1.00000000e+00, -2.73606905e-02],\n",
       "       [ 1.00000000e+00,  1.28747869e-02],\n",
       "       [ 1.00000000e+00,  1.76329228e-02],\n",
       "       [ 1.00000000e+00, -5.90900146e-03],\n",
       "       [ 1.00000000e+00, -1.77382781e-02],\n",
       "       [ 1.00000000e+00,  1.49688008e-02],\n",
       "       [ 1.00000000e+00,  1.24029944e-02],\n",
       "       [ 1.00000000e+00,  1.89927874e-02],\n",
       "       [ 1.00000000e+00, -8.67647546e-03],\n",
       "       [ 1.00000000e+00,  1.93697895e-02],\n",
       "       [ 1.00000000e+00, -3.80591695e-03],\n",
       "       [ 1.00000000e+00, -1.13125454e-02],\n",
       "       [ 1.00000000e+00, -9.68819250e-03],\n",
       "       [ 1.00000000e+00,  1.48809954e-02],\n",
       "       [ 1.00000000e+00, -2.30465907e-03],\n",
       "       [ 1.00000000e+00, -5.59146248e-03],\n",
       "       [ 1.00000000e+00,  9.81253453e-03],\n",
       "       [ 1.00000000e+00,  7.78753638e-02],\n",
       "       [ 1.00000000e+00,  5.29941376e-03],\n",
       "       [ 1.00000000e+00, -7.42706780e-03],\n",
       "       [ 1.00000000e+00,  4.60423206e-03],\n",
       "       [ 1.00000000e+00, -1.23755685e-03],\n",
       "       [ 1.00000000e+00, -3.53809962e-04],\n",
       "       [ 1.00000000e+00,  1.92785833e-02],\n",
       "       [ 1.00000000e+00, -1.04202542e-03],\n",
       "       [ 1.00000000e+00,  6.35688889e-03],\n",
       "       [ 1.00000000e+00,  7.78214462e-03],\n",
       "       [ 1.00000000e+00,  3.78275644e-03],\n",
       "       [ 1.00000000e+00,  1.37187472e-03],\n",
       "       [ 1.00000000e+00, -2.57396096e-03],\n",
       "       [ 1.00000000e+00, -5.34071428e-03],\n",
       "       [ 1.00000000e+00, -1.38285043e-03],\n",
       "       [ 1.00000000e+00,  2.59130299e-03],\n",
       "       [ 1.00000000e+00,  4.99105170e-03],\n",
       "       [ 1.00000000e+00,  1.71517099e-03],\n",
       "       [ 1.00000000e+00, -7.74191143e-03],\n",
       "       [ 1.00000000e+00,  5.51154163e-03],\n",
       "       [ 1.00000000e+00, -1.05327724e-02],\n",
       "       [ 1.00000000e+00,  2.06157330e-02],\n",
       "       [ 1.00000000e+00,  1.52924887e-03],\n",
       "       [ 1.00000000e+00, -6.64345806e-03],\n",
       "       [ 1.00000000e+00, -7.89301271e-03],\n",
       "       [ 1.00000000e+00, -6.74092980e-03],\n",
       "       [ 1.00000000e+00, -2.79628871e-02],\n",
       "       [ 1.00000000e+00, -8.92056117e-04],\n",
       "       [ 1.00000000e+00,  1.07049647e-03],\n",
       "       [ 1.00000000e+00,  1.29330992e-02],\n",
       "       [ 1.00000000e+00, -4.94100502e-03],\n",
       "       [ 1.00000000e+00,  1.06084394e-03],\n",
       "       [ 1.00000000e+00,  8.44634341e-03],\n",
       "       [ 1.00000000e+00,  8.37553236e-03],\n",
       "       [ 1.00000000e+00,  4.16163973e-03],\n",
       "       [ 1.00000000e+00, -1.55857760e-03],\n",
       "       [ 1.00000000e+00, -6.95656834e-03],\n",
       "       [ 1.00000000e+00, -2.27142260e-03],\n",
       "       [ 1.00000000e+00,  1.37238999e-02],\n",
       "       [ 1.00000000e+00,  1.69365185e-02],\n",
       "       [ 1.00000000e+00,  4.73858220e-03],\n",
       "       [ 1.00000000e+00,  3.03439356e-03],\n",
       "       [ 1.00000000e+00,  6.87747975e-03],\n",
       "       [ 1.00000000e+00,  4.33698512e-03],\n",
       "       [ 1.00000000e+00, -7.68595897e-03],\n",
       "       [ 1.00000000e+00,  3.85033129e-03]])"
      ]
     },
     "execution_count": 26,
     "metadata": {},
     "output_type": "execute_result"
    }
   ],
   "source": [
    "sm.add_constant(intc)"
   ]
  },
  {
   "cell_type": "code",
   "execution_count": 29,
   "metadata": {
    "id": "eYgcH6Kvo3L9"
   },
   "outputs": [],
   "source": [
    "aapl = returns['AAPL'].to_numpy()\n",
    "intc = returns['INTC'].to_numpy()\n",
    "msft = returns['MSFT'].to_numpy()\n",
    "ibm = returns['IBM'].to_numpy()\n",
    "\n",
    "# creating a linear regression with intel's returns as the predictor and apple's returns as the response variable\n",
    "aapl_intc_reg = lin_reg(intc,aapl)\n",
    "\n",
    "\n"
   ]
  },
  {
   "cell_type": "code",
   "execution_count": 31,
   "metadata": {},
   "outputs": [
    {
     "data": {
      "text/plain": [
       "array([0.00195633, 0.53526326])"
      ]
     },
     "execution_count": 31,
     "metadata": {},
     "output_type": "execute_result"
    }
   ],
   "source": [
    "# the coefficients of the regression\n",
    "aapl_intc_reg[0]"
   ]
  },
  {
   "cell_type": "code",
   "execution_count": 33,
   "metadata": {},
   "outputs": [],
   "source": [
    "resid = aapl_intc_reg[1]"
   ]
  },
  {
   "cell_type": "code",
   "execution_count": 35,
   "metadata": {},
   "outputs": [],
   "source": [
    "# residual equals actual minus fitted, which means that the fitted values equals actual minus residual\n",
    "# to obtain a series of fitted values for apple, I will subtract the residuals from the aapl numpy array\n",
    "\n",
    "fitted_aapl = pd.Series(aapl - resid)\n",
    "\n",
    "\n"
   ]
  },
  {
   "cell_type": "code",
   "execution_count": 39,
   "metadata": {
    "id": "oFHxC6oWo3L_"
   },
   "outputs": [
    {
     "data": {
      "text/plain": [
       "<matplotlib.legend.Legend at 0x7f9e64aebdc0>"
      ]
     },
     "execution_count": 39,
     "metadata": {},
     "output_type": "execute_result"
    },
    {
     "data": {
      "image/png": "[encoded data removed]",
      "text/plain": [
       "<Figure size 432x288 with 1 Axes>"
      ]
     },
     "metadata": {
      "needs_background": "light"
     },
     "output_type": "display_data"
    }
   ],
   "source": [
    "# Plotting the cumulative fitted returns vs the cumulative actual returns\n",
    "\n",
    "x = fitted_aapl.cumsum().index\n",
    "\n",
    "y1 = fitted_aapl.cumsum()\n",
    "\n",
    "y2= returns['AAPL'].cumsum()\n",
    "\n",
    "plt.plot(x,y1)\n",
    "plt.plot(x,y2)\n",
    "\n",
    "plt.xlabel(\"Time(days)\")\n",
    "plt.ylabel('Cumulative Return(%)')\n",
    "plt.legend([\"Apple's cumulative fitted returns\",\"Apple's cumulative actual returns\"])\n"
   ]
  },
  {
   "cell_type": "code",
   "execution_count": 40,
   "metadata": {},
   "outputs": [
    {
     "data": {
      "text/plain": [
       "0.3050299157977574"
      ]
     },
     "execution_count": 40,
     "metadata": {},
     "output_type": "execute_result"
    }
   ],
   "source": [
    "aapl_intc_reg[2] # this is the r_squared value, which is the coeffficient of determination\n",
    "\n"
   ]
  },
  {
   "cell_type": "markdown",
   "metadata": {
    "id": "AohUeUtTo3L_"
   },
   "source": [
    "### The independent variable(Intel's stock returns) explains about 30.5% of the variation in the response variable(Apple's stock returns). This indicates that there is only a weak to moderate connection between Intel's stock returns and Apple's stock returns. \n"
   ]
  },
  {
   "cell_type": "code",
   "execution_count": null,
   "metadata": {},
   "outputs": [],
   "source": []
  },
  {
   "cell_type": "code",
   "execution_count": 41,
   "metadata": {
    "id": "DUyZH_-po3MC"
   },
   "outputs": [],
   "source": [
    "# Using the returns of Intel, Microsoft, and IBM to predict Apple's returns\n",
    "y = aapl\n",
    "\n",
    "x1 = intc\n",
    "x2 = msft\n",
    "x3 = ibm\n",
    "x = np.array([x1,x2,x3])\n",
    "x = x.transpose()\n",
    "\n",
    "\n",
    "\n",
    "aapl_reg2 = lin_reg(x,y)"
   ]
  },
  {
   "cell_type": "code",
   "execution_count": 42,
   "metadata": {},
   "outputs": [],
   "source": [
    "# residual equals actual minus fitted, which means that the fitted values equals actual minus residual\n",
    "# to obtain a series of fitted values for apple, I will subtract the residuals from the aapl numpy array\n",
    "\n",
    "resid2 = aapl_reg2[1]\n",
    "\n",
    "fitted_aapl2 = pd.Series(aapl - resid2)\n",
    "\n"
   ]
  },
  {
   "cell_type": "code",
   "execution_count": 43,
   "metadata": {
    "id": "UUCDe_TQo3MD"
   },
   "outputs": [
    {
     "data": {
      "text/plain": [
       "<matplotlib.legend.Legend at 0x7f9e61648f10>"
      ]
     },
     "execution_count": 43,
     "metadata": {},
     "output_type": "execute_result"
    },
    {
     "data": {
      "image/png": "[encoded data removed]",
      "text/plain": [
       "<Figure size 432x288 with 1 Axes>"
      ]
     },
     "metadata": {
      "needs_background": "light"
     },
     "output_type": "display_data"
    }
   ],
   "source": [
    "# Once again plotting apple's cumulative fitted returns versus its cumulative actual returns\n",
    "x = fitted_aapl2.cumsum().index\n",
    "\n",
    "\n",
    "y1 = fitted_aapl2.cumsum()\n",
    "\n",
    "y2= returns['AAPL'].cumsum()\n",
    "\n",
    "plt.plot(x,y1)\n",
    "plt.plot(x,y2)\n",
    "\n",
    "plt.xlabel(\"Time(days)\")\n",
    "plt.ylabel('Cumulative Return(%)')\n",
    "plt.legend([\"Apple's cumulative fitted returns\",\"Apple's cumulative actual returns\"])"
   ]
  },
  {
   "cell_type": "code",
   "execution_count": 44,
   "metadata": {},
   "outputs": [
    {
     "data": {
      "text/plain": [
       "0.4704730705676301"
      ]
     },
     "execution_count": 44,
     "metadata": {},
     "output_type": "execute_result"
    }
   ],
   "source": [
    "aapl_reg2[2]"
   ]
  },
  {
   "cell_type": "markdown",
   "metadata": {
    "id": "SCQlVPNmo3ME"
   },
   "source": [
    "### The R-Squared value for this regression is 0.47047, which means that the predictors explain 47.047% of the variance in the response variable. The predictors in this regression(the returns of Intel, Microsoft, and IBM) seem to have a stronger connection with the response variable(Apple's returns) than the previous regression.\n",
    "\n"
   ]
  },
  {
   "cell_type": "markdown",
   "metadata": {},
   "source": [
    "# PCA Regression Section"
   ]
  },
  {
   "cell_type": "markdown",
   "metadata": {
    "id": "HbmcUm2zo3ME"
   },
   "source": [
    "The file SPY.csv contains the prices of SPDR S&P 500 ETF Trust. This Exchange Traded Fund (ETF) contains a collection of assets currently present in the S&P 500 index. \n",
    "\n"
   ]
  },
  {
   "cell_type": "code",
   "execution_count": 39,
   "metadata": {
    "id": "FSULofdLo3MF"
   },
   "outputs": [],
   "source": [
    "# Loading in a new dataset of prices of the SPDR S&P 500 ETF, which will eventually be used as the target variable\n",
    "spy_prices = pd.read_csv(\"SPY.csv\")\n",
    "\n",
    "spy_prices.set_index(\"Date\", inplace = True)\n"
   ]
  },
  {
   "cell_type": "code",
   "execution_count": 40,
   "metadata": {
    "id": "Ls_7gotgo3MG"
   },
   "outputs": [
    {
     "data": {
      "text/html": [
       "<div>\n",
       "<style scoped>\n",
       "    .dataframe tbody tr th:only-of-type {\n",
       "        vertical-align: middle;\n",
       "    }\n",
       "\n",
       "    .dataframe tbody tr th {\n",
       "        vertical-align: top;\n",
       "    }\n",
       "\n",
       "    .dataframe thead th {\n",
       "        text-align: right;\n",
       "    }\n",
       "</style>\n",
       "<table border=\"1\" class=\"dataframe\">\n",
       "  <thead>\n",
       "    <tr style=\"text-align: right;\">\n",
       "      <th></th>\n",
       "      <th>High</th>\n",
       "      <th>Low</th>\n",
       "      <th>Open</th>\n",
       "      <th>Close</th>\n",
       "      <th>Volume</th>\n",
       "      <th>Adj Close</th>\n",
       "    </tr>\n",
       "    <tr>\n",
       "      <th>Date</th>\n",
       "      <th></th>\n",
       "      <th></th>\n",
       "      <th></th>\n",
       "      <th></th>\n",
       "      <th></th>\n",
       "      <th></th>\n",
       "    </tr>\n",
       "  </thead>\n",
       "  <tbody>\n",
       "    <tr>\n",
       "      <th>2015-01-02</th>\n",
       "      <td>206.880005</td>\n",
       "      <td>204.179993</td>\n",
       "      <td>206.380005</td>\n",
       "      <td>205.429993</td>\n",
       "      <td>121465900.0</td>\n",
       "      <td>184.260223</td>\n",
       "    </tr>\n",
       "    <tr>\n",
       "      <th>2015-01-05</th>\n",
       "      <td>204.369995</td>\n",
       "      <td>201.350006</td>\n",
       "      <td>204.169998</td>\n",
       "      <td>201.720001</td>\n",
       "      <td>169632600.0</td>\n",
       "      <td>180.932541</td>\n",
       "    </tr>\n",
       "    <tr>\n",
       "      <th>2015-01-06</th>\n",
       "      <td>202.720001</td>\n",
       "      <td>198.860001</td>\n",
       "      <td>202.089996</td>\n",
       "      <td>199.820007</td>\n",
       "      <td>209151400.0</td>\n",
       "      <td>179.228363</td>\n",
       "    </tr>\n",
       "    <tr>\n",
       "      <th>2015-01-07</th>\n",
       "      <td>202.720001</td>\n",
       "      <td>200.880005</td>\n",
       "      <td>201.419998</td>\n",
       "      <td>202.309998</td>\n",
       "      <td>125346700.0</td>\n",
       "      <td>181.461731</td>\n",
       "    </tr>\n",
       "    <tr>\n",
       "      <th>2015-01-08</th>\n",
       "      <td>206.160004</td>\n",
       "      <td>203.990005</td>\n",
       "      <td>204.009995</td>\n",
       "      <td>205.899994</td>\n",
       "      <td>147217800.0</td>\n",
       "      <td>184.681763</td>\n",
       "    </tr>\n",
       "  </tbody>\n",
       "</table>\n",
       "</div>"
      ],
      "text/plain": [
       "                  High         Low        Open       Close       Volume  \\\n",
       "Date                                                                      \n",
       "2015-01-02  206.880005  204.179993  206.380005  205.429993  121465900.0   \n",
       "2015-01-05  204.369995  201.350006  204.169998  201.720001  169632600.0   \n",
       "2015-01-06  202.720001  198.860001  202.089996  199.820007  209151400.0   \n",
       "2015-01-07  202.720001  200.880005  201.419998  202.309998  125346700.0   \n",
       "2015-01-08  206.160004  203.990005  204.009995  205.899994  147217800.0   \n",
       "\n",
       "             Adj Close  \n",
       "Date                    \n",
       "2015-01-02  184.260223  \n",
       "2015-01-05  180.932541  \n",
       "2015-01-06  179.228363  \n",
       "2015-01-07  181.461731  \n",
       "2015-01-08  184.681763  "
      ]
     },
     "execution_count": 40,
     "metadata": {},
     "output_type": "execute_result"
    }
   ],
   "source": [
    "# Examining the dataframe's values \n",
    "\n",
    "spy_prices.head()\n"
   ]
  },
  {
   "cell_type": "code",
   "execution_count": 48,
   "metadata": {},
   "outputs": [
    {
     "data": {
      "text/plain": [
       "count                             1362\n",
       "mean     2017-09-15 11:27:13.480176384\n",
       "min                2015-01-02 00:00:00\n",
       "25%                2016-05-10 06:00:00\n",
       "50%                2017-09-14 12:00:00\n",
       "75%                2019-01-23 18:00:00\n",
       "max                2020-06-01 00:00:00\n",
       "Name: Date, dtype: object"
      ]
     },
     "execution_count": 48,
     "metadata": {},
     "output_type": "execute_result"
    }
   ],
   "source": [
    "pd.Series(pd.to_datetime(spy_prices.index)).describe(datetime_is_numeric= True)"
   ]
  },
  {
   "cell_type": "markdown",
   "metadata": {
    "id": "Tqr0o5G2o3MH"
   },
   "source": [
    "\n",
    "\n",
    "### The ETF's highest and lowest prices for a particular day are shown in addition to the opening and closing prices for that day. There is also the adjusted closing price, which I assume would mean accounting for inflation or standardizing the price in comparison to the rest of the market.\n",
    "\n",
    "### These prices are reported from January 2nd 2015 to June 1st of 2020."
   ]
  },
  {
   "cell_type": "code",
   "execution_count": 51,
   "metadata": {
    "id": "NUalgy5ko3MI"
   },
   "outputs": [
    {
     "data": {
      "text/plain": [
       "Date\n",
       "2015-01-02    184.260223\n",
       "2015-01-05    180.932541\n",
       "2015-01-06    179.228363\n",
       "2015-01-07    181.461731\n",
       "2015-01-08    184.681763\n",
       "                 ...    \n",
       "2020-05-26    297.769623\n",
       "2020-05-27    302.200134\n",
       "2020-05-28    301.642609\n",
       "2020-05-29    302.986694\n",
       "2020-06-01    304.211273\n",
       "Name: Adj Close, Length: 1362, dtype: float64"
      ]
     },
     "execution_count": 51,
     "metadata": {},
     "output_type": "execute_result"
    }
   ],
   "source": [
    "# code for question 16\n",
    "spy_adjclose = spy_prices['Adj Close']\n",
    "\n",
    "spy_adjclose"
   ]
  },
  {
   "cell_type": "code",
   "execution_count": 52,
   "metadata": {
    "id": "fnfMg1rxo3MJ"
   },
   "outputs": [
    {
     "data": {
      "text/plain": [
       "Date\n",
       "2019-01-02    0.001040\n",
       "2019-01-03   -0.023863\n",
       "2019-01-04    0.033496\n",
       "2019-01-07    0.007885\n",
       "2019-01-08    0.009395\n",
       "                ...   \n",
       "2019-12-24    0.000031\n",
       "2019-12-26    0.005323\n",
       "2019-12-27   -0.000248\n",
       "2019-12-30   -0.005513\n",
       "2019-12-31    0.002429\n",
       "Name: Adj Close, Length: 252, dtype: float64"
      ]
     },
     "execution_count": 52,
     "metadata": {},
     "output_type": "execute_result"
    }
   ],
   "source": [
    "# Computing the returns on the Adjusted Close prices of SPY, from the start of the 2019 to the start of 2020\n",
    "\n",
    "\n",
    "spy_returns = spy_adjclose.pct_change()[(spy_adjclose.index >= \"2019-01-01\") & (spy_adjclose.index <= '2020-01-01')]\n",
    "\n",
    "\n",
    "\n",
    "spy_returns"
   ]
  },
  {
   "cell_type": "code",
   "execution_count": 43,
   "metadata": {},
   "outputs": [],
   "source": [
    "returns.set_index('Date', inplace= True)"
   ]
  },
  {
   "cell_type": "code",
   "execution_count": 111,
   "metadata": {},
   "outputs": [],
   "source": [
    "# Scaling values so that no single column outweighs another due to greater variance\n",
    "scaled_returns = scale(returns)"
   ]
  },
  {
   "cell_type": "code",
   "execution_count": 113,
   "metadata": {
    "id": "ZhGtqZlJo3ML"
   },
   "outputs": [],
   "source": [
    "# Performing SVD on returns from earlier(scaled)\n",
    "\n",
    "np_returns = scaled_returns\n",
    "\n",
    "A = np.linalg.svd(np_returns)\n",
    "\n",
    "U = A[0]\n",
    "\n",
    "V = A[2]\n",
    "\n",
    "# The left singular vector corresponding to the largest singular value  \n",
    "u_sigma1 = U[:,0]\n",
    "\n"
   ]
  },
  {
   "cell_type": "markdown",
   "metadata": {
    "id": "z8hsxeX9o3ML"
   },
   "source": [
    "## u_sigma1 is thought to track the market. To test that, I will perform a regression of spy_returns against this first left singular vector by letting y=spy_returns and x=u_sigma1.\n",
    "\n",
    "\n"
   ]
  },
  {
   "cell_type": "code",
   "execution_count": 116,
   "metadata": {
    "id": "IQthBSxPo3MM"
   },
   "outputs": [
    {
     "data": {
      "text/plain": [
       "(const    0.001110\n",
       " x1       0.121541\n",
       " dtype: float64,\n",
       " Date\n",
       " 2019-01-02    0.001541\n",
       " 2019-01-03   -0.003382\n",
       " 2019-01-04    0.002333\n",
       " 2019-01-07   -0.000501\n",
       " 2019-01-08   -0.000452\n",
       "                 ...   \n",
       " 2019-12-24   -0.000111\n",
       " 2019-12-26    0.002848\n",
       " 2019-12-27    0.000377\n",
       " 2019-12-30   -0.001925\n",
       " 2019-12-31   -0.000711\n",
       " Length: 252, dtype: float64,\n",
       " 0.9475459049384576)"
      ]
     },
     "execution_count": 116,
     "metadata": {},
     "output_type": "execute_result"
    }
   ],
   "source": [
    "# Use the first principal component(left singular vector) to predict the overall stock market returns\n",
    "\n",
    "x= u_sigma1\n",
    "\n",
    "y = spy_returns\n",
    "\n",
    "spy_reg = lin_reg(x,y)\n",
    "\n",
    "spy_reg"
   ]
  },
  {
   "cell_type": "code",
   "execution_count": 117,
   "metadata": {
    "id": "OZaw-XZqo3MN"
   },
   "outputs": [
    {
     "data": {
      "text/plain": [
       "<matplotlib.legend.Legend at 0x7f8f593a5430>"
      ]
     },
     "execution_count": 117,
     "metadata": {},
     "output_type": "execute_result"
    },
    {
     "data": {
      "image/png": "[encoded data removed]",
      "text/plain": [
       "<Figure size 432x288 with 1 Axes>"
      ]
     },
     "metadata": {
      "needs_background": "light"
     },
     "output_type": "display_data"
    }
   ],
   "source": [
    "# Plotting Cumulative fitted returns versus actual returns\n",
    "spy_reg_resid = spy_reg[1]\n",
    "\n",
    "\n",
    "fitted_spy_reg = spy_returns - spy_reg_resid\n",
    "\n",
    "x = fitted_spy_reg.cumsum().index\n",
    "\n",
    "\n",
    "y1 = fitted_spy_reg.cumsum()\n",
    "\n",
    "y2= spy_returns.cumsum()\n",
    "\n",
    "plt.plot(x,y1)\n",
    "plt.plot(x,y2)\n",
    "\n",
    "plt.xlabel(\"Time(days)\")\n",
    "plt.ylabel('Cumulative Return(%)')\n",
    "plt.legend([\"SPDR's cumulative fitted returns\",\"SPDR's cumulative actual returns\"])"
   ]
  },
  {
   "cell_type": "code",
   "execution_count": 118,
   "metadata": {},
   "outputs": [
    {
     "data": {
      "text/plain": [
       "0.9475459049384576"
      ]
     },
     "execution_count": 118,
     "metadata": {},
     "output_type": "execute_result"
    }
   ],
   "source": [
    "spy_reg[2]"
   ]
  },
  {
   "cell_type": "markdown",
   "metadata": {
    "id": "sDOLMEZ9o3MN"
   },
   "source": [
    "### The left singular vector with the highest eigenvalue explains 94.75% of the variance in the SPDR ETF's returns. This indicates a strong relationship between the predictor and the response variable."
   ]
  },
  {
   "cell_type": "markdown",
   "metadata": {},
   "source": [
    "## As we can see, if we perform a PCA Regression using sklearn, we get the same results for the coefficient of determination"
   ]
  },
  {
   "cell_type": "code",
   "execution_count": 59,
   "metadata": {},
   "outputs": [],
   "source": [
    "from sklearn.linear_model import LinearRegression\n",
    "from sklearn.decomposition import PCA"
   ]
  },
  {
   "cell_type": "code",
   "execution_count": 69,
   "metadata": {},
   "outputs": [],
   "source": [
    "\n",
    "scaled_x = scale(returns)\n",
    "\n",
    "X = scaled_x\n",
    "y = spy_returns"
   ]
  },
  {
   "cell_type": "code",
   "execution_count": 110,
   "metadata": {},
   "outputs": [
    {
     "data": {
      "text/plain": [
       "0.9475459049384576"
      ]
     },
     "execution_count": 110,
     "metadata": {},
     "output_type": "execute_result"
    }
   ],
   "source": [
    "pca = PCA()\n",
    "\n",
    "x_train_pc = pca.fit_transform(X)\n",
    "\n",
    "component = x_train_pc[:,0].reshape(-1,1)\n",
    "pca_reg = LinearRegression()\n",
    "\n",
    "pca_reg.fit(component,y)\n",
    "pca_reg.score(component,y)\n",
    "\n",
    "\n",
    "\n",
    "\n"
   ]
  },
  {
   "cell_type": "code",
   "execution_count": null,
   "metadata": {},
   "outputs": [],
   "source": []
  }
 ],
 "metadata": {
  "colab": {
   "collapsed_sections": [],
   "name": "LASTNAME_FIRSTNAME_LinearAlgebra_project.ipynb",
   "provenance": []
  },
  "kernelspec": {
   "display_name": "Python 3",
   "language": "python",
   "name": "python3"
  },
  "language_info": {
   "codemirror_mode": {
    "name": "ipython",
    "version": 3
   },
   "file_extension": ".py",
   "mimetype": "text/x-python",
   "name": "python",
   "nbconvert_exporter": "python",
   "pygments_lexer": "ipython3",
   "version": "3.8.8"
  }
 },
 "nbformat": 4,
 "nbformat_minor": 1
}
